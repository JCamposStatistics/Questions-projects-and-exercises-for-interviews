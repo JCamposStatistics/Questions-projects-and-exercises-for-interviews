{
  "nbformat": 4,
  "nbformat_minor": 0,
  "metadata": {
    "colab": {
      "name": "Preguntas y respuestas (Python, listas, diccionarios y tipos de datos).ipynb",
      "provenance": []
    },
    "kernelspec": {
      "name": "python3",
      "display_name": "Python 3"
    },
    "language_info": {
      "name": "python"
    }
  },
  "cells": [
    {
      "cell_type": "markdown",
      "source": [
        "#Generalizaciones sobre Python\n",
        "##Qué es Python?\n",
        "Python es un lenguaje de programación orientada a objetos, casi cualquier aplicación se puede hacer en este lenguaje sin embargo su aplicación más conocida es la IA enfocada en Machine Learning y Deep Learning\n",
        "##Cuál es la pricipal diferencia entre un interprete y un compilador?\n",
        "El compilador traduce todo el código a la vez en lenguje de máquina \n",
        "El inteprete traduce una declaración a la vez en lenguaje de \n",
        "##Python es un lenguaje escrito estáticamente o dinámicamente?\n",
        "Es un lenguaje escrito dinámicamente\n",
        "#A que se refiere con escrito dinámicamente?\n",
        "Verifican los tipos de variables en tiempo de ejecución\n",
        "##Menciona algunas aplicaciones de Python?\n",
        "Las más populares son en Ciencia  de Datos, como el Machine Learning y el Deep Learning sin embargo puedes abrir correos, conocer precios sobre algo o incluso hacer videojuegos\n",
        "\n",
        "#Tipos de datos\n",
        "##Cuales son los tipos de datos integrados en python?\n",
        "int, float, complex, bool, list, tuple, set, dict, str\n",
        "\n",
        "NOTA: EN UNA ENTREVISTA SOLO DI LOS QUE USAS YA QUE EL ETREVISTADOR PUEDE PREGUNTAR UNA ESPECIFICACIÓN SOBRE ALGUNO\n",
        "\n",
        "##Cuál es la diferencia entre Tupla y Lista\n",
        "NOTA: ESTA PREGUNTA ES SUPER FAMOSA, SE RECOMIENDA MUCHA ATENCIÓN\n",
        "\n",
        "La principal diferencia es que la Tupla es inmutable mientras que la lista si es mutable\n",
        "\n",
        "\n",
        "##Qué son los datos inmutables y mutables?\n",
        "Los datos inmutables son aquellos que no se pueden cambiar después de crearlos mientras que los datos mutables son aquellos que si se pueden cambiar\n",
        "\n",
        "##Qué clase de cosas has hecho con Python?\n",
        "Todo lo que he hecho hasido principalmente Estadística y Ciencia de datos, por ejemplo, modelos de ML y estadísticas sobre el Covid 19\n",
        "\n",
        "NOTA:TENGA CUIDADO DE LO QUE MENCIONA YA QUE ESTA RESPUESTA ES EXCLUSIVAMENTE MIA, SI EMBARGO QUERÍA MOSTRARLEE COMO FUE QUE LO CONTESTÉ\n",
        "\n",
        "##Explique algunos métodos de listas\n",
        "\n",
        "\n",
        "\n"
      ],
      "metadata": {
        "id": "1AqXs4qrI1MV"
      }
    },
    {
      "cell_type": "code",
      "source": [
        "#.append (método para agregar un valor)\n",
        "a=[2,3]\n",
        "a.append(4)\n",
        "print(a)"
      ],
      "metadata": {
        "colab": {
          "base_uri": "https://localhost:8080/"
        },
        "id": "Yuqf9yy0ykJh",
        "outputId": "99148cd8-c847-4c4e-b503-a01af3ed570e"
      },
      "execution_count": 2,
      "outputs": [
        {
          "output_type": "stream",
          "name": "stdout",
          "text": [
            "[2, 3, 4]\n"
          ]
        }
      ]
    },
    {
      "cell_type": "code",
      "execution_count": 5,
      "metadata": {
        "colab": {
          "base_uri": "https://localhost:8080/"
        },
        "id": "zx-KTW7SITcI",
        "outputId": "4771d4a3-a459-4992-a717-ceddde342547"
      },
      "outputs": [
        {
          "output_type": "execute_result",
          "data": {
            "text/plain": [
              "6"
            ]
          },
          "metadata": {},
          "execution_count": 5
        }
      ],
      "source": [
        "#.pop (método para extraer algún valor en específico)\n",
        "b=[5,4,6,7,8,91,5,1,5,1,5,6]\n",
        "b.pop() #Por no poner algún índice en específico te dará el último índice"
      ]
    },
    {
      "cell_type": "code",
      "source": [
        "b.pop(4) #Pusimos el índice 4 de la lista por lo tanto nos dará ese valor de la lista"
      ],
      "metadata": {
        "colab": {
          "base_uri": "https://localhost:8080/"
        },
        "id": "JkW2v-ubzi4r",
        "outputId": "b9f553f8-991b-4901-a2d7-151c39a81628"
      },
      "execution_count": 7,
      "outputs": [
        {
          "output_type": "execute_result",
          "data": {
            "text/plain": [
              "8"
            ]
          },
          "metadata": {},
          "execution_count": 7
        }
      ]
    },
    {
      "cell_type": "code",
      "source": [
        "#.remove() sirve para retirar algún valor en específico\n",
        "c = [1,2,3,4,5,56]\n",
        "c.remove(3)\n",
        "c"
      ],
      "metadata": {
        "colab": {
          "base_uri": "https://localhost:8080/"
        },
        "id": "PNcMbzmLzvbz",
        "outputId": "f42e81c0-ab5b-4eea-8fbb-ea154309b294"
      },
      "execution_count": 9,
      "outputs": [
        {
          "output_type": "execute_result",
          "data": {
            "text/plain": [
              "[1, 2, 4, 5, 56]"
            ]
          },
          "metadata": {},
          "execution_count": 9
        }
      ]
    },
    {
      "cell_type": "code",
      "source": [
        "#.sort() es para ordenar en orden ascendente o descendente\n",
        "d = [1,2,3,4,5,6,7,8,9]\n",
        "d.sort(reverse = True)\n",
        "d"
      ],
      "metadata": {
        "colab": {
          "base_uri": "https://localhost:8080/"
        },
        "id": "BffAARnt0WmD",
        "outputId": "68acf8ab-8be4-47b7-a252-e205a25d903f"
      },
      "execution_count": 3,
      "outputs": [
        {
          "output_type": "execute_result",
          "data": {
            "text/plain": [
              "[9, 8, 7, 6, 5, 4, 3, 2, 1]"
            ]
          },
          "metadata": {},
          "execution_count": 3
        }
      ]
    },
    {
      "cell_type": "code",
      "source": [
        "#.reverse() se utiliza para ordenar al revés los datos\n",
        "e = [1,23,4,45]\n",
        "e.reverse()"
      ],
      "metadata": {
        "id": "_AtFzssxp5ER"
      },
      "execution_count": 4,
      "outputs": []
    },
    {
      "cell_type": "markdown",
      "source": [
        "##Metodos de cadena\n",
        "Como tal el entrevistador puede preguntar \"Explique algunos métodos de cadena\""
      ],
      "metadata": {
        "id": "cycMwJ6sqK4D"
      }
    },
    {
      "cell_type": "code",
      "source": [
        "#.split() divide el string en partes\n",
        "f = \"Arriba la Facultad de Ciencias\"\n",
        "f.split()"
      ],
      "metadata": {
        "colab": {
          "base_uri": "https://localhost:8080/"
        },
        "id": "ejwYaAJaqN2h",
        "outputId": "b70f1f20-dbb7-4f4c-cbb2-d9a3882bd11e"
      },
      "execution_count": 7,
      "outputs": [
        {
          "output_type": "execute_result",
          "data": {
            "text/plain": [
              "['Arriba', 'la', 'Facultad', 'de', 'Ciencias']"
            ]
          },
          "metadata": {},
          "execution_count": 7
        }
      ]
    },
    {
      "cell_type": "code",
      "source": [
        "#.join() une el string en la forma que digas NOTA: TEN CUIDADO CON EL PARÉNTESIS YA QUE WEL ARGUMENTO SERÁ UN LIST, YA NO UNELEMENTO DE LA CADENA \n",
        "g = [\"a\",\"b\",\"c\"]\n",
        "\",\".join(g)"
      ],
      "metadata": {
        "colab": {
          "base_uri": "https://localhost:8080/",
          "height": 35
        },
        "id": "Vv-Uq9nmrWFD",
        "outputId": "c84978df-8878-423d-a712-1b14ca6ce957"
      },
      "execution_count": 13,
      "outputs": [
        {
          "output_type": "execute_result",
          "data": {
            "text/plain": [
              "'a,b,c'"
            ],
            "application/vnd.google.colaboratory.intrinsic+json": {
              "type": "string"
            }
          },
          "metadata": {},
          "execution_count": 13
        }
      ]
    },
    {
      "cell_type": "markdown",
      "source": [
        "Hay muchos métodos más con los strings (cadena) pero estos son solo algunos\n"
      ],
      "metadata": {
        "id": "FZkEU_8Is-Zy"
      }
    },
    {
      "cell_type": "markdown",
      "source": [
        "##Qué es la indexación negativa?\n",
        "Por indexación se refiere a a acceder a los elementos de las listas pero si la indexación normal se refiere a acceder a los elementos de las listas desde el 0 entonces porn indexación negativa se refiere a acceder a los elementos desde -1"
      ],
      "metadata": {
        "id": "JKj3lvpJvAvP"
      }
    },
    {
      "cell_type": "code",
      "source": [
        "h =[\"a\",2,1,\"asd\"]\n",
        "h[-3]"
      ],
      "metadata": {
        "colab": {
          "base_uri": "https://localhost:8080/"
        },
        "id": "UmEcvrc_vusE",
        "outputId": "32d9b9d3-a7d3-46bf-ea39-cc818f8fc1c5"
      },
      "execution_count": 18,
      "outputs": [
        {
          "output_type": "execute_result",
          "data": {
            "text/plain": [
              "2"
            ]
          },
          "metadata": {},
          "execution_count": 18
        }
      ]
    },
    {
      "cell_type": "markdown",
      "source": [
        "##Explique algunos métodos de los diccionarios"
      ],
      "metadata": {
        "id": "V7cL5DTBw7Po"
      }
    },
    {
      "cell_type": "code",
      "source": [
        "i = {1:\"Arriba\", 2:\"Las aguilas\", 3:\"Del América\"}\n",
        "i.items()"
      ],
      "metadata": {
        "colab": {
          "base_uri": "https://localhost:8080/"
        },
        "id": "3VwgRqVVxCs3",
        "outputId": "e82f530a-f6ec-44b7-9b97-09caa4dffd23"
      },
      "execution_count": 24,
      "outputs": [
        {
          "output_type": "execute_result",
          "data": {
            "text/plain": [
              "dict_items([(1, 'Arriba'), (2, 'Las aguilas'), (3, 'Del América')])"
            ]
          },
          "metadata": {},
          "execution_count": 24
        }
      ]
    },
    {
      "cell_type": "code",
      "source": [
        "j = {\"B\":\"ROS\", \"QUESO\":\"LÓPEZ\"}\n",
        "j.pop(\"B\")"
      ],
      "metadata": {
        "colab": {
          "base_uri": "https://localhost:8080/",
          "height": 35
        },
        "id": "SysZxPSLx-sS",
        "outputId": "51f43667-7e04-40e5-aa82-830c513c2b31"
      },
      "execution_count": 31,
      "outputs": [
        {
          "output_type": "execute_result",
          "data": {
            "text/plain": [
              "'ROS'"
            ],
            "application/vnd.google.colaboratory.intrinsic+json": {
              "type": "string"
            }
          },
          "metadata": {},
          "execution_count": 31
        }
      ]
    },
    {
      "cell_type": "code",
      "source": [
        "j"
      ],
      "metadata": {
        "colab": {
          "base_uri": "https://localhost:8080/"
        },
        "id": "gobCDEiEzAbS",
        "outputId": "bdb27017-7c8d-4722-f427-b0777c36c4e7"
      },
      "execution_count": 32,
      "outputs": [
        {
          "output_type": "execute_result",
          "data": {
            "text/plain": [
              "{'QUESO': 'LÓPEZ'}"
            ]
          },
          "metadata": {},
          "execution_count": 32
        }
      ]
    }
  ]
}