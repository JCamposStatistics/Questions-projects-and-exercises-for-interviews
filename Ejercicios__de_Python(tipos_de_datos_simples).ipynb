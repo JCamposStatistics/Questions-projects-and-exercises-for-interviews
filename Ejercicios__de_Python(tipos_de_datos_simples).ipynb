{
  "nbformat": 4,
  "nbformat_minor": 0,
  "metadata": {
    "colab": {
      "provenance": []
    },
    "kernelspec": {
      "name": "python3",
      "display_name": "Python 3"
    },
    "language_info": {
      "name": "python"
    }
  },
  "cells": [
    {
      "cell_type": "code",
      "execution_count": 8,
      "metadata": {
        "colab": {
          "base_uri": "https://localhost:8080/"
        },
        "id": "D9HlWN32-7F5",
        "outputId": "bb72bb51-855f-4b36-dba7-ff48bb371209"
      },
      "outputs": [
        {
          "output_type": "stream",
          "name": "stdout",
          "text": [
            "¡Hola Mundo!\n"
          ]
        }
      ],
      "source": [
        "#Escribir un programa que muestre por pantalla la cadena ¡Hola Mundo!.\n",
        "print(\"¡Hola Mundo!\")"
      ]
    },
    {
      "cell_type": "code",
      "source": [
        "#Escribir un programa que almacene la cadena ¡Hola Mundo! en una variable y luego muestre por pantalla el contenido de la variable.\n",
        "x=\"¡Hola Mundo!\"\n",
        "print(x)"
      ],
      "metadata": {
        "colab": {
          "base_uri": "https://localhost:8080/"
        },
        "id": "_o36FGgi_OjS",
        "outputId": "94bfb9fb-26be-45b5-bfb4-f47a7936abce"
      },
      "execution_count": 9,
      "outputs": [
        {
          "output_type": "stream",
          "name": "stdout",
          "text": [
            "¡Hola Mundo!\n"
          ]
        }
      ]
    },
    {
      "cell_type": "code",
      "source": [
        "#Escribir un programa que pregunte el nombre del usuario en la consola y después de que el usuario lo introduzca muestre por pantalla la cadena ¡Hola <nombre>!, donde <nombre> es el nombre que el usuario haya introducido.\n",
        "x=input(\"¿Cuál es tu nombre?: \")\n",
        "print(\"Hola \" + x +\"!\")"
      ],
      "metadata": {
        "colab": {
          "base_uri": "https://localhost:8080/"
        },
        "id": "kSdd_lJBAHZa",
        "outputId": "65540d88-1101-4fc5-da6d-a9d68483a8f2"
      },
      "execution_count": 13,
      "outputs": [
        {
          "output_type": "stream",
          "name": "stdout",
          "text": [
            "¿Cuál es tu nombre?: Ramón\n",
            "Hola Ramón!\n"
          ]
        }
      ]
    },
    {
      "cell_type": "code",
      "source": [
        "#Escribir un programa que muestre por pantalla el resultado de la siguiente operación aritmética (3+2/2.5) elevado al cuadrado\n",
        "print(((3+2)/(2*5))**2)"
      ],
      "metadata": {
        "colab": {
          "base_uri": "https://localhost:8080/"
        },
        "id": "7LaSpcnDBmS6",
        "outputId": "84f428ba-c67e-48c6-cebd-685d2423a69a"
      },
      "execution_count": 11,
      "outputs": [
        {
          "output_type": "stream",
          "name": "stdout",
          "text": [
            "0.25\n"
          ]
        }
      ]
    },
    {
      "cell_type": "code",
      "source": [
        "#Escribir un programa que pregunte al usuario por el número de horas trabajadas y el coste por hora. Después debe mostrar por pantalla la paga que le corresponde.\n",
        "x=float(input(\"¿Cuál es tu número de horas trabajadas?: \"))\n",
        "y=float(input(\"¿Cuál es el coste de horas trabajadas?: \"))\n",
        "paga=x*y\n",
        "print(\"Entonces tu sueldo corresponde a una cantidad de: \", paga)"
      ],
      "metadata": {
        "colab": {
          "base_uri": "https://localhost:8080/"
        },
        "id": "P81jehiKC0CZ",
        "outputId": "499a3fc7-f85f-4e23-8b53-f7212f110101"
      },
      "execution_count": 12,
      "outputs": [
        {
          "output_type": "stream",
          "name": "stdout",
          "text": [
            "¿Cuál es tu número de horas trabajadas?: 5\n",
            "¿Cuál es el coste de horas trabajadas?: 50\n",
            "Entonces tu sueldo corresponde a una cantidad de:  250.0\n"
          ]
        }
      ]
    },
    {
      "cell_type": "code",
      "source": [
        "#Escribir un programa que lea un entero positivo n, introducido por el usuario y después muestre en pantalla la suma de todos los enteros desde 1 hasta n. La suma de los\n",
        "#primeros enteros positivos puede ser calculada de la siguiente forma: n(n+1)/2\n",
        "n=float(input(\"Dame un número por favor: \"))\n",
        "suma=n*(n+1)/2\n",
        "print(\"La suma corresponde a: \", suma)\n",
        "\n"
      ],
      "metadata": {
        "colab": {
          "base_uri": "https://localhost:8080/"
        },
        "id": "Owwsmk1xFojY",
        "outputId": "189bf445-c6a1-4121-cef3-af27ed7d8875"
      },
      "execution_count": 14,
      "outputs": [
        {
          "output_type": "stream",
          "name": "stdout",
          "text": [
            "Dame un número por favor: 5\n",
            "La suma corresponde a:  15.0\n"
          ]
        }
      ]
    },
    {
      "cell_type": "code",
      "source": [
        "#Escribir un programa que pida al usuario su peso (en kg) y estatura (en metros), calcule el índice de masa corporal y lo almacene en una variable,\n",
        "#y muestre por pantalla la frase Tu índice de masa corporal es <imc> donde <imc> es el índice de masa corporal calculado redondeado con dos decimales.\n",
        "peso=float(input(\"Dame tu peso: \"))\n",
        "estatura=float(input(\"Dame tu estatura: \"))\n",
        "IMC=peso/estatura\n",
        "Resultado=print(\"Tu IMC es de: \", IMC)"
      ],
      "metadata": {
        "colab": {
          "base_uri": "https://localhost:8080/"
        },
        "id": "1wu-aWVoHmZ3",
        "outputId": "4a861e62-d853-49f8-d272-b14cbbe0ecd8"
      },
      "execution_count": 15,
      "outputs": [
        {
          "output_type": "stream",
          "name": "stdout",
          "text": [
            "Dame tu peso: 45\n",
            "Dame tu estatura: 50\n",
            "Tu IMC es de:  0.9\n"
          ]
        }
      ]
    },
    {
      "cell_type": "code",
      "execution_count": 16,
      "metadata": {
        "id": "kGlSY0onKflJ",
        "outputId": "a393b014-1c61-4087-fec6-1332451c51a2",
        "colab": {
          "base_uri": "https://localhost:8080/"
        }
      },
      "outputs": [
        {
          "output_type": "stream",
          "name": "stdout",
          "text": [
            "Introduce el dividendo (entero): 5\n",
            "Introduce el divisor (entero): 4\n",
            "5 entre 4 da un cociente 1 y un resto 1\n"
          ]
        }
      ],
      "source": [
        "n = input(\"Introduce el dividendo (entero): \")\n",
        "m = input(\"Introduce el divisor (entero): \")\n",
        "print(n + \" entre \" +  m + \" da un cociente \" + str(int(n) // int(m)) + \" y un resto \" + str(int(n) % int(m)))"
      ]
    },
    {
      "cell_type": "code",
      "source": [
        "payaso=int(input(\"¿Cuántos payasos desea comprar?: \"))\n",
        "muñeca=int(input(\"¿Cuántas muñecas desea comprar?: \"))\n",
        "costo_payasos=payaso*112\n",
        "costo_muñecas=muñeca*75\n",
        "print(\"El peso total de payasos es: \" + str(costo_payasos) + \" gramos y el peso total de muñecas es: \"  + str(costo_muñecas) + \" gramos\")"
      ],
      "metadata": {
        "colab": {
          "base_uri": "https://localhost:8080/"
        },
        "id": "L5PXaRD65B-x",
        "outputId": "992783b4-bb0a-499b-8c95-e87a51a2e1e6"
      },
      "execution_count": 17,
      "outputs": [
        {
          "output_type": "stream",
          "name": "stdout",
          "text": [
            "¿Cuántos payasos desea comprar?: 78\n",
            "¿Cuántas muñecas desea comprar?: 6545\n",
            "El peso total de payasos es: 8736 gramos y el peso total de muñecas es: 490875 gramos\n"
          ]
        }
      ]
    },
    {
      "cell_type": "code",
      "execution_count": 20,
      "metadata": {
        "id": "W_9DMIEbtT0t",
        "outputId": "c13fe270-b42d-4466-99a9-41a359351d05",
        "colab": {
          "base_uri": "https://localhost:8080/"
        }
      },
      "outputs": [
        {
          "output_type": "stream",
          "name": "stdout",
          "text": [
            "Introduce la inversión inicial: 5\n",
            "Balance tras el primer año:5.2\n",
            "Balance tras el segundo año:5.41\n",
            "Balance tras el tercer año:5.62\n"
          ]
        }
      ],
      "source": [
        "#Imagina que acabas de abrir una nueva cuenta de ahorros que te ofrece el 4% de interés al año. Estos ahorros debido a intereses, que no se cobran hasta finales de año, \n",
        "#se te añaden al balance final de tu cuenta de ahorros. Escribir un programa que comience leyendo la cantidad de dinero depositada en la cuenta de ahorros, introducida por el usuario.\n",
        "#Después el programa debe calcular y mostrar por pantalla la cantidad de ahorros tras el primer, segundo y tercer años. Redondear cada cantidad a dos decimales.\n",
        "inversion = float(input(\"Introduce la inversión inicial: \"))\n",
        "interes = 0.04\n",
        "balance1 = inversion * (1 + interes)\n",
        "print(\"Balance tras el primer año:\" + str(round(balance1, 2)))\n",
        "balance2 = balance1 * (1 + interes)\n",
        "print(\"Balance tras el segundo año:\" + str(round(balance2, 2)))\n",
        "balance3 = balance2 * (1 + interes)\n",
        "print(\"Balance tras el tercer año:\" + str(round(balance3, 2)))"
      ]
    },
    {
      "cell_type": "code",
      "source": [
        "polya=[1,2,3,4,5,6]\n",
        "len(polya)"
      ],
      "metadata": {
        "colab": {
          "base_uri": "https://localhost:8080/"
        },
        "id": "YhMNXQCXzz6R",
        "outputId": "6922a5a9-2482-4baa-cbae-9d76c807aea6"
      },
      "execution_count": 21,
      "outputs": [
        {
          "output_type": "execute_result",
          "data": {
            "text/plain": [
              "6"
            ]
          },
          "metadata": {},
          "execution_count": 21
        }
      ]
    },
    {
      "cell_type": "code",
      "source": [
        "def saluda(name):\n",
        "  print(\"Hola \" + name)\n",
        "saluda(\"José\")"
      ],
      "metadata": {
        "colab": {
          "base_uri": "https://localhost:8080/"
        },
        "id": "nP5FsGQD5zVP",
        "outputId": "b5da4850-17ed-47cd-81ca-109738c8b4d6"
      },
      "execution_count": 22,
      "outputs": [
        {
          "output_type": "stream",
          "name": "stdout",
          "text": [
            "Hola José\n"
          ]
        }
      ]
    },
    {
      "cell_type": "code",
      "source": [
        "def suma(a,b,c,d,e):\n",
        "  return(a+b+c+d+e)\n",
        "suma(1,5,3,4,6)"
      ],
      "metadata": {
        "colab": {
          "base_uri": "https://localhost:8080/"
        },
        "id": "SvPfKSSQ6p1A",
        "outputId": "12b0ed84-8299-40a9-c6d6-998e0feb9ad8"
      },
      "execution_count": 23,
      "outputs": [
        {
          "output_type": "execute_result",
          "data": {
            "text/plain": [
              "19"
            ]
          },
          "metadata": {},
          "execution_count": 23
        }
      ]
    },
    {
      "cell_type": "code",
      "source": [
        "def suma_para_sumar_dos_unidades(a,c,b=2):\n",
        "  return(a+b+c)\n",
        "suma_para_sumar_dos_unidades(5,4)\n",
        "#Nótese como la variable predeterminada es la que se define aL último, es decir b"
      ],
      "metadata": {
        "colab": {
          "base_uri": "https://localhost:8080/"
        },
        "id": "FgMrM4B87v3P",
        "outputId": "52f124fa-7327-412a-d9a0-ad07d18e131b"
      },
      "execution_count": 24,
      "outputs": [
        {
          "output_type": "execute_result",
          "data": {
            "text/plain": [
              "11"
            ]
          },
          "metadata": {},
          "execution_count": 24
        }
      ]
    },
    {
      "cell_type": "code",
      "source": [
        "#Para encontrar el volumen (centímetros cúbicos) de un paralelepípedo, usa la fórmula:\n",
        "#volumen = Largo * Ancho * Alto\n",
        "#¡Pero alguien se olvidó de usar un registro adecuado, por lo que solo tenemos el volumen y la longitud de un solo lado!\n",
        "#Depende de ti averiguar si el cuboide tiene lados iguales (= es un cubo).\n",
        "#Devuelve true si el cuboide puede tener lados iguales, de lo contrario devuelve false.\n",
        "#También devuelve falso para números no válidos (por ejemplo, el volumen o el lado es menor o igual a 0).\n",
        "#Nota: lado será un número entero\n",
        "Largo=int(input(\"Dame el Largo: \"))\n",
        "Ancho=int(input(\"Dame el Ancho: \"))\n",
        "Alto=int(input(\"Dame el Alto: \"))\n",
        "volumen=Largo * Ancho * Alto\n",
        "if(Largo > 0, Ancho > 0, Alto >0):\n",
        "  print(\"True\")\n",
        "else:\n",
        "  print(\"False\")"
      ],
      "metadata": {
        "id": "i2itV50U9Cru",
        "colab": {
          "base_uri": "https://localhost:8080/"
        },
        "outputId": "e6d74e32-876f-4dbd-dfd1-8d04c73902db"
      },
      "execution_count": 25,
      "outputs": [
        {
          "output_type": "stream",
          "name": "stdout",
          "text": [
            "Dame el Largo: 564\n",
            "Dame el Ancho: 654\n",
            "Dame el Alto: 456\n",
            "True\n"
          ]
        }
      ]
    },
    {
      "cell_type": "code",
      "source": [
        "#Una panadería vende barras de pan a 3.49€ cada una. El pan que no es el día tiene un descuento del 60%.\n",
        "#Escribir un programa que comience leyendo el número de barras vendidas que no son del día.\n",
        "#Después el programa debe mostrar el precio habitual de una barra de pan, el descuento que se le hace por no ser fresca y el coste final total.\n",
        "barras_no_vendidas=int(input(\"¿Cuál es el número de barras que no son del día?: \" ))\n",
        "barras_que_son_del_día=int(input(\"¿Cuál es el número de barras que compraste que son del día?: \"))\n",
        "precio_sin_descuento=barras_que_son_del_día * 3.49\n",
        "descuento=0.6\n",
        "precio_con_decuento=(barras_no_vendidas * 3.49) - (barras_no_vendidas * 3.49 * descuento)\n",
        "print(\"El número de barras que no son del día es de \" + str(barras_no_vendidas) + \", y el descuento es de 60% por no ser del día, así el precio total de barras que no son del día es de: \" + str(precio_con_decuento))\n",
        "precio_b=print(\"El número de barras del día es \" + str(barras_que_son_del_día) + \"tu compra cuesta \" + str(precio_sin_descuento))\n",
        "print(\"Excelente día, gracias por su compra :)\")"
      ],
      "metadata": {
        "colab": {
          "base_uri": "https://localhost:8080/"
        },
        "id": "57mblXzhRrU2",
        "outputId": "d52dfc9d-f099-4be1-d3e6-d88463ec0f1a"
      },
      "execution_count": 33,
      "outputs": [
        {
          "output_type": "stream",
          "name": "stdout",
          "text": [
            "¿Cuál es el número de barras que no son del día?: 5\n",
            "¿Cuál es el número de barras que compraste que son del día?: 45\n",
            "El número de barras que no son del día es de 5, y el descuento es de 60% por no ser del día, así el precio total de barras que no son del día es de: 6.980000000000002\n",
            "El número de barras del día es 45tu compra cuesta 157.05\n",
            "Excelente día, gracias por su compra :)\n"
          ]
        }
      ]
    }
  ]
}