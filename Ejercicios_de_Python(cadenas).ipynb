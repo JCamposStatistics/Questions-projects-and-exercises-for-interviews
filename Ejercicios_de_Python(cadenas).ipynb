{
  "nbformat": 4,
  "nbformat_minor": 0,
  "metadata": {
    "colab": {
      "provenance": []
    },
    "kernelspec": {
      "name": "python3",
      "display_name": "Python 3"
    },
    "language_info": {
      "name": "python"
    }
  },
  "cells": [
    {
      "cell_type": "code",
      "execution_count": null,
      "metadata": {
        "colab": {
          "base_uri": "https://localhost:8080/"
        },
        "id": "RkS2xsPNknl3",
        "outputId": "a5e9f14a-3077-4aad-b855-c5b8b7408322"
      },
      "outputs": [
        {
          "output_type": "stream",
          "name": "stdout",
          "text": [
            "Dime tu nombre: ram\n",
            "Dame un número: 5\n",
            "ram\n",
            "ram\n",
            "ram\n",
            "ram\n",
            "ram\n",
            "\n"
          ]
        }
      ],
      "source": [
        " #Escribir un programa que pregunte el nombre del usuario en la consola y un número entero\n",
        "#e imprima por pantalla en líneas distintas el nombre del usuario tantas veces como el número introducido.\n",
        "variable_1=input(str(\"Dime tu nombre: \"))\n",
        "variable_2=int(input(\"Dame un número: \"))\n",
        "print((variable_1 + \"\\n\") * variable_2)"
      ]
    },
    {
      "cell_type": "code",
      "source": [
        "#Escribir un programa que pregunte el nombre completo del usuario en la consola\n",
        "#y después muestre por pantalla el nombre completo del usuario tres veces, una con todas las letras minúsculas, \n",
        "#otra con todas las letras mayúsculas y otra solo con la primera letra del nombre y de los apellidos en mayúscula.\n",
        "#El usuario puede introducir su nombre combinando mayúsculas y minúsculas como quiera.\n",
        "nombre=input(\"Dame tu nombre completo: \")\n",
        "print((nombre.upper()))\n",
        "print(nombre.lower())\n",
        "print(nombre.title())"
      ],
      "metadata": {
        "colab": {
          "base_uri": "https://localhost:8080/"
        },
        "id": "P_DygekSmbaX",
        "outputId": "1f035df2-aac2-442e-9933-fd29f3e775e5"
      },
      "execution_count": 4,
      "outputs": [
        {
          "output_type": "stream",
          "name": "stdout",
          "text": [
            "Dame tu nombre completo: Juan Marroquín Álcantara\n",
            "JUAN MARROQUÍN ÁLCANTARA\n",
            "juan marroquín álcantara\n",
            "Juan Marroquín Álcantara\n"
          ]
        }
      ]
    },
    {
      "cell_type": "code",
      "source": [
        "#Escribir un programa que pregunte el nombre del usuario en la consola y\n",
        "#después de que el usuario lo introduzca muestre por pantalla <NOMBRE> tiene <n> letras, donde <NOMBRE> es el nombre de usuario en mayúsculas y <n> es el número de letras que tienen el nombre.\n",
        "nombre=input(str(\"Dime tu nombre por favor: \"))\n",
        "print(nombre.upper() + \" tiene \" + str(len(nombre)) + \" letras\")"
      ],
      "metadata": {
        "colab": {
          "base_uri": "https://localhost:8080/"
        },
        "id": "yOYtr-cJo5ID",
        "outputId": "6ee457f9-a652-4822-b2f2-7a79ff4bd7b3"
      },
      "execution_count": null,
      "outputs": [
        {
          "output_type": "stream",
          "name": "stdout",
          "text": [
            "Dime tu nombre por favor: ramoion\n",
            "RAMOION tiene 7 letras\n"
          ]
        }
      ]
    },
    {
      "cell_type": "code",
      "source": [
        "#Los teléfonos de una empresa tienen el siguiente formato prefijo-número-extension donde el prefijo es el código del país +34, y la extensión tiene dos dígitos (por ejemplo +34-913724710-56). \n",
        "#Escribir un programa que pregunte por un número de teléfono con este formato y muestre por pantalla el número de teléfono sin el prefijo y la extensión.\n",
        "var=input(\"Dame un número con el c+odigo +34 y la extensión del prefijo -56: \")\n",
        "print(\"El número es: \", var[4:-3])"
      ],
      "metadata": {
        "colab": {
          "base_uri": "https://localhost:8080/"
        },
        "id": "Vjpg8emzs-e3",
        "outputId": "98a31964-71af-4625-f02e-1e1117ab1df4"
      },
      "execution_count": null,
      "outputs": [
        {
          "output_type": "stream",
          "name": "stdout",
          "text": [
            "Dame un número con el c+odigo +34 y la extensión del prefijo -56: +34-4654654136-56\n",
            "El número es:  4654654136\n"
          ]
        }
      ]
    },
    {
      "cell_type": "code",
      "source": [
        "#Escribir un programa que pida al usuario que introduzca una frase en la consola y muestre por pantalla la frase invertida.\n",
        "frase_mamalactica=input(str(\"Dime una frase buen mamalactica: \"))\n",
        "frase_mamalactica[::-1]"
      ],
      "metadata": {
        "colab": {
          "base_uri": "https://localhost:8080/",
          "height": 54
        },
        "id": "Lya3NHDbuTiQ",
        "outputId": "81fad4de-4f64-469c-85b3-34298f377247"
      },
      "execution_count": null,
      "outputs": [
        {
          "name": "stdout",
          "output_type": "stream",
          "text": [
            "Dime una frase buen mamalactica: To siempre estoy bien, cuando no, la vida me obliga a triunfar\n"
          ]
        },
        {
          "output_type": "execute_result",
          "data": {
            "text/plain": [
              "'rafnuirt a agilbo em adiv al ,on odnauc ,neib yotse erpmeis oT'"
            ],
            "application/vnd.google.colaboratory.intrinsic+json": {
              "type": "string"
            }
          },
          "metadata": {},
          "execution_count": 21
        }
      ]
    },
    {
      "cell_type": "code",
      "source": [
        "#Escribir un programa que pida al usuario que introduzca una frase en la consola y una vocal, y después muestre por pantalla la misma frase pero con la vocal introducida en mayúscula.\n",
        "frase_mamalactica_2=input(str(\"Dime una frase bien mamalactica otra vez porfa: \"))\n",
        "vocal=input(str(\"Dame una vocal: \"))\n",
        "frase_mamalactica_2.replace(vocal, vocal.upper())"
      ],
      "metadata": {
        "colab": {
          "base_uri": "https://localhost:8080/",
          "height": 72
        },
        "id": "e4khopBgvSqw",
        "outputId": "b3a8f0a2-4fbf-4e30-fb14-f8ea33d67c01"
      },
      "execution_count": null,
      "outputs": [
        {
          "name": "stdout",
          "output_type": "stream",
          "text": [
            "Dime una frase bien mamalactica otra vez porfa: quierete siempre :)\n",
            "Dame una vocal: e\n"
          ]
        },
        {
          "output_type": "execute_result",
          "data": {
            "text/plain": [
              "'quiErEtE siEmprE :)'"
            ],
            "application/vnd.google.colaboratory.intrinsic+json": {
              "type": "string"
            }
          },
          "metadata": {},
          "execution_count": 24
        }
      ]
    },
    {
      "cell_type": "code",
      "source": [
        "#Escribir un programa que pregunte\n",
        "#el correo electrónico del usuario en la consola y muestre por pantalla otro correo electrónico con el mismo nombre (la parte delante de la arroba @) pero con dominio ceu.es.\n",
        "var=input(str(\"Dame tu correo: \"))\n",
        "print(var[:var.find(\"@\")] + \"@ceu.es\")"
      ],
      "metadata": {
        "colab": {
          "base_uri": "https://localhost:8080/"
        },
        "id": "cm5LPJ6XxIIB",
        "outputId": "0a08da42-d10a-4967-fe63-e1c8a1a19f04"
      },
      "execution_count": null,
      "outputs": [
        {
          "output_type": "stream",
          "name": "stdout",
          "text": [
            "Dame tu correo: joserc17@ciencias.unam.mx\n",
            "joserc17@ceu.es\n"
          ]
        }
      ]
    },
    {
      "cell_type": "code",
      "source": [
        "#Escribir un programa que pregunte por consola el precio de un producto en euros con dos decimales y muestre por pantalla el número de euros y el número de céntimos del precio introducido.\n",
        "precio=input(\"Dime el precio de un producto con dos décimales: \")\n",
        "print(precio[:precio.find(\".\")], \"con el número de centavos:\", precio[precio.find(\".\")+1:])"
      ],
      "metadata": {
        "colab": {
          "base_uri": "https://localhost:8080/"
        },
        "id": "IhUfzlrcsXLZ",
        "outputId": "d6942e05-216e-419e-ae86-68250c18121e"
      },
      "execution_count": null,
      "outputs": [
        {
          "output_type": "stream",
          "name": "stdout",
          "text": [
            "Dime el precio de un producto con dos décimales: 56.65\n",
            "56 con el número de centavos: 65\n"
          ]
        }
      ]
    },
    {
      "cell_type": "code",
      "source": [
        "#Escribir un programa que pregunte por consola por los productos de una cesta de la compra, separados por comas, y muestre por pantalla cada uno de los productos en una línea distinta.\n",
        "productos=input(\"Dime los productos de la compra separados por comas: \")\n",
        "print(productos.replace(\",\",\"\\n\"))"
      ],
      "metadata": {
        "colab": {
          "base_uri": "https://localhost:8080/"
        },
        "id": "Lo-GGUMN7e2U",
        "outputId": "170ea985-4e32-4df6-9a84-17758eaffea7"
      },
      "execution_count": 3,
      "outputs": [
        {
          "output_type": "stream",
          "name": "stdout",
          "text": [
            "Dime los productos de la compra separados por comas: pasta,arroz,jitomate,calabza,huevo\n",
            "pasta\n",
            "arroz\n",
            "jitomate\n",
            "calabza\n",
            "huevo\n"
          ]
        }
      ]
    },
    {
      "cell_type": "code",
      "execution_count": 1,
      "metadata": {
        "id": "yr4l93DhsIXe",
        "outputId": "ec572c0c-d6ba-4836-f059-a0403111b8b5",
        "colab": {
          "base_uri": "https://localhost:8080/"
        }
      },
      "outputs": [
        {
          "output_type": "stream",
          "name": "stdout",
          "text": [
            "Introduce el nombre del producto: iPad\n",
            "Introducde el precio unitario: 50000\n",
            "Introduce el número de unidades: 4\n",
            "iPad:   4 unidades x  50000.00€ =   200000.00€\n"
          ]
        }
      ],
      "source": [
        "#Escribir un programa que pregunte el nombre el un producto, su precio y un número de unidades\n",
        "#y muestre por pantalla una cadena con el nombre del producto seguido de su precio unitario con 6 dígitos enteros y 2 decimales,\n",
        "#el número de unidades con tres dígitos y el coste total con 8 dígitos enteros y 2 decimales.\n",
        "\n",
        "producto = input('Introduce el nombre del producto: ')\n",
        "precio = float(input('Introducde el precio unitario: '))\n",
        "unidades = int(input('Introduce el número de unidades: '))\n",
        "print('{producto}: {unidades:3d} unidades x {precio:9.2f}€ = {total:11.2f}€'.format(producto = producto, unidades = unidades, precio = precio, total = unidades * precio))"
      ]
    }
  ]
}