{
  "nbformat": 4,
  "nbformat_minor": 0,
  "metadata": {
    "colab": {
      "provenance": []
    },
    "kernelspec": {
      "name": "python3",
      "display_name": "Python 3"
    },
    "language_info": {
      "name": "python"
    }
  },
  "cells": [
    {
      "cell_type": "code",
      "execution_count": null,
      "metadata": {
        "colab": {
          "base_uri": "https://localhost:8080/"
        },
        "id": "6LMdTjxJAg0c",
        "outputId": "3edb2e3f-4efa-4b19-c9f0-ee12796f4388"
      },
      "outputs": [
        {
          "output_type": "stream",
          "name": "stdout",
          "text": [
            "Dame una palabra: polo\n",
            "polo\n",
            "polo\n",
            "polo\n",
            "polo\n",
            "polo\n",
            "polo\n",
            "polo\n",
            "polo\n",
            "polo\n",
            "polo\n",
            "\n",
            "Dame una palabra por favor: potasio\n",
            "potasio\n",
            "potasio\n",
            "potasio\n",
            "potasio\n",
            "potasio\n",
            "potasio\n",
            "potasio\n",
            "potasio\n",
            "potasio\n",
            "potasio\n"
          ]
        }
      ],
      "source": [
        "#Escribir un programa que pida al usuario una palabra y la muestre por pantalla 10 veces\n",
        "#solución sin ciclo\n",
        "palabra = str(input(\"Dame una palabra: \"))\n",
        "print((palabra + \"\\n\") * 10)\n",
        "#solución con ciclo\n",
        "palabra2 = str(input(\"Dame una palabra por favor: \"))\n",
        "for i in range(10):\n",
        "  print(palabra2) "
      ]
    },
    {
      "cell_type": "code",
      "source": [
        "#Escribir un programa que pregunte al usuario su edad y muestre por pantalla todos los años que ha cumplido (desde 1 hasta su edad).\n",
        "edad = int(input(\"Ingresa tu edad: \"))\n",
        "for i in range(edad):\n",
        "  print(\"Has cumplido\", str(i+1), \"años\")"
      ],
      "metadata": {
        "colab": {
          "base_uri": "https://localhost:8080/"
        },
        "id": "M7J9TJ3ECZwq",
        "outputId": "01f662fa-cddb-4e0c-c96d-2135997769ec"
      },
      "execution_count": null,
      "outputs": [
        {
          "output_type": "stream",
          "name": "stdout",
          "text": [
            "Ingresa tu edad: 15\n",
            "Has cumplido 1 años\n",
            "Has cumplido 2 años\n",
            "Has cumplido 3 años\n",
            "Has cumplido 4 años\n",
            "Has cumplido 5 años\n",
            "Has cumplido 6 años\n",
            "Has cumplido 7 años\n",
            "Has cumplido 8 años\n",
            "Has cumplido 9 años\n",
            "Has cumplido 10 años\n",
            "Has cumplido 11 años\n",
            "Has cumplido 12 años\n",
            "Has cumplido 13 años\n",
            "Has cumplido 14 años\n",
            "Has cumplido 15 años\n"
          ]
        }
      ]
    },
    {
      "cell_type": "code",
      "source": [
        "n = int(input(\"Introduce un número entero positivo: \"))\n",
        "for i in range(1, n+1, 2):\n",
        "    print(i, end=\", \")"
      ],
      "metadata": {
        "colab": {
          "base_uri": "https://localhost:8080/"
        },
        "id": "9HqtT-OLDlOy",
        "outputId": "e6ca083d-4353-434f-d743-69d2b41f9252"
      },
      "execution_count": null,
      "outputs": [
        {
          "output_type": "stream",
          "name": "stdout",
          "text": [
            "Introduce un número entero positivo: 9\n",
            "1, 3, 5, 7, 9, "
          ]
        }
      ]
    },
    {
      "cell_type": "code",
      "source": [
        "#Escribir un programa que pregunte al usuario una cantidad a invertir, el interés anual y el número de años, y muestre por pantalla el capital obtenido en la inversión cada año que dura la inversión.\n",
        "amount = float(input(\"¿Cantidad a invertir? \"))\n",
        "interest = float(input(\"¿Interés porcentual anual? \"))\n",
        "years = int(input(\"¿Años?\"))\n",
        "for i in range(years):\n",
        "    amount *= 1 + interest / 100 \n",
        "    print(\"Capital tras \" + str(i+1) + \" años: \" + str(round(amount, 2)))"
      ],
      "metadata": {
        "colab": {
          "base_uri": "https://localhost:8080/"
        },
        "id": "vrvKbrBnIth-",
        "outputId": "5edca42e-ba98-4f73-d384-4590317a7cd0"
      },
      "execution_count": null,
      "outputs": [
        {
          "output_type": "stream",
          "name": "stdout",
          "text": [
            "¿Cantidad a invertir? 654\n",
            "¿Interés porcentual anual? 654.465\n",
            "¿Años?5\n",
            "Capital tras 1 años: 4934.2\n",
            "Capital tras 2 años: 37226.82\n",
            "Capital tras 3 años: 280863.33\n",
            "Capital tras 4 años: 2119015.52\n",
            "Capital tras 5 años: 15987230.46\n"
          ]
        }
      ]
    },
    {
      "cell_type": "code",
      "source": [
        "n=int(input(\"Dime un número entero\"))\n",
        "for i in range(n):\n",
        "  print(\"*\" * (i + 1))"
      ],
      "metadata": {
        "colab": {
          "base_uri": "https://localhost:8080/"
        },
        "id": "UJFMw2NFayR4",
        "outputId": "31f2fd4a-ad03-4352-939b-9d33e021e904"
      },
      "execution_count": null,
      "outputs": [
        {
          "output_type": "stream",
          "name": "stdout",
          "text": [
            "Dime un número entero5\n",
            "*\n",
            "**\n",
            "***\n",
            "****\n",
            "*****\n"
          ]
        }
      ]
    },
    {
      "cell_type": "code",
      "source": [
        "#Escribir un programa que muestre por pantalla la tabla de multiplicar del 1 al 10.\n",
        "tabla=[1,2,3,4,5,6,7,8,9,10]\n",
        "for i in tabla:\n",
        "  print(i*10)"
      ],
      "metadata": {
        "colab": {
          "base_uri": "https://localhost:8080/"
        },
        "id": "MxYaC6Gbb8LX",
        "outputId": "451d1ab6-dc0c-4d0c-b6eb-4122ddbb99af"
      },
      "execution_count": null,
      "outputs": [
        {
          "output_type": "stream",
          "name": "stdout",
          "text": [
            "10\n",
            "20\n",
            "30\n",
            "40\n",
            "50\n",
            "60\n",
            "70\n",
            "80\n",
            "90\n",
            "100\n"
          ]
        }
      ]
    },
    {
      "cell_type": "code",
      "source": [
        "n = int(input(\"Introduce la altura del triángulo (entero positivo): \"))\n",
        "for i in range(1, n+1, 2):\n",
        "    for j in range(i, 0, -2):\n",
        "        print(j, end=\" \")\n",
        "    print(\"\")"
      ],
      "metadata": {
        "colab": {
          "base_uri": "https://localhost:8080/"
        },
        "id": "dgsvAbaNsTqe",
        "outputId": "8e552506-9a6c-457a-ba82-37ddf22f7cd0"
      },
      "execution_count": 4,
      "outputs": [
        {
          "output_type": "stream",
          "name": "stdout",
          "text": [
            "Introduce la altura del triángulo (entero positivo): 8\n",
            "1 \n",
            "3 1 \n",
            "5 3 1 \n",
            "7 5 3 1 \n"
          ]
        }
      ]
    },
    {
      "cell_type": "code",
      "source": [
        "#Escribir un programa que almacene la cadena de caracteres contraseña en una variable, pregunte al usuario por la contraseña hasta que introduzca la contraseña correcta.\n",
        "key = \"contraseña\"\n",
        "password =\"\"\n",
        "while password != key:\n",
        "    password = input(\"Introduce la contraseña: \")\n",
        "print(\"Contraseña correcta\")"
      ],
      "metadata": {
        "colab": {
          "base_uri": "https://localhost:8080/"
        },
        "id": "MuTSwFajuwXY",
        "outputId": "9fe179c7-9df0-4474-9424-2c0b3502568e"
      },
      "execution_count": 7,
      "outputs": [
        {
          "output_type": "stream",
          "name": "stdout",
          "text": [
            "Introduce la contraseña: 657\n",
            "Introduce la contraseña: contraseña\n",
            "Contraseña correcta\n"
          ]
        }
      ]
    },
    {
      "cell_type": "code",
      "source": [
        "#Escribir un programa que pida al usuario una palabra y luego muestre por pantalla una a una las letras de la palabra introducida empezando por la última.\n",
        "frase = input(\"Introduce una frase: \")\n",
        "letra = input(\"Introduce una letra\")\n",
        "contador = 0\n",
        "for i in frase:\n",
        "    if i == letra:\n",
        "        contador += 1\n",
        "print(\"La letra '%s' aparece %2i veces en la frase '%s'.\" % (letra, contador, frase))"
      ],
      "metadata": {
        "colab": {
          "base_uri": "https://localhost:8080/"
        },
        "id": "sWFXRidh0i1v",
        "outputId": "574feeca-b33b-44ea-8791-06d688811ad2"
      },
      "execution_count": 16,
      "outputs": [
        {
          "output_type": "stream",
          "name": "stdout",
          "text": [
            "Introduce una frase: perro comiendo\n",
            "Introduce una letrao\n",
            "La letra 'o' aparece  3 veces en la frase 'perro comiendo'.\n"
          ]
        }
      ]
    },
    {
      "cell_type": "code",
      "source": [
        "#Escribir un programa que muestre el eco de todo lo que el usuario introduzca hasta que el usuario escriba “salir” que terminará.\n",
        "while True:\n",
        "    frase = input(\"Introduce algo: \")\n",
        "    if frase == \"salir\":\n",
        "        break\n",
        "    print(frase)"
      ],
      "metadata": {
        "colab": {
          "base_uri": "https://localhost:8080/"
        },
        "id": "aGslSoQv4BJK",
        "outputId": "8e19749c-519d-4ee2-d85f-d1ca25e7bce0"
      },
      "execution_count": 17,
      "outputs": [
        {
          "name": "stdout",
          "output_type": "stream",
          "text": [
            "Introduce algo: perro\n",
            "perro\n",
            "Introduce algo: palíndromo\n",
            "palíndromo\n",
            "Introduce algo: salir\n"
          ]
        }
      ]
    }
  ]
}