{
  "nbformat": 4,
  "nbformat_minor": 0,
  "metadata": {
    "colab": {
      "provenance": []
    },
    "kernelspec": {
      "name": "python3",
      "display_name": "Python 3"
    },
    "language_info": {
      "name": "python"
    }
  },
  "cells": [
    {
      "cell_type": "code",
      "execution_count": null,
      "metadata": {
        "id": "zRieqYXctVbM",
        "colab": {
          "base_uri": "https://localhost:8080/"
        },
        "outputId": "74d40b26-4423-428b-8606-b788a498eb63"
      },
      "outputs": [
        {
          "output_type": "execute_result",
          "data": {
            "text/plain": [
              "['Matemáticas', 'Física', 'Química', 'Historia', 'Lengua']"
            ]
          },
          "metadata": {},
          "execution_count": 1
        }
      ],
      "source": [
        "#Escribir un programa que almacene las asignaturas de un curso (por ejemplo Matemáticas, Física, Química, Historia y Lengua) en una lista y la muestre por pantalla.\n",
        "materias = [\"Matemáticas\", \"Física\", \"Química\", \"Historia\", \"Lengua\"]\n",
        "materias"
      ]
    },
    {
      "cell_type": "code",
      "source": [
        "#Escribir un programa que almacene las asignaturas de un curso (por ejemplo Matemáticas, Física, Química, Historia y Lengua) en una lista y la muestre por pantalla el mensaje Yo estudio <asignatura>,\n",
        "#donde <asignatura> es cada una de las asignaturas de la lista.\n",
        "for materia in materias:\n",
        "  print(\"Yo estudio\", materia)"
      ],
      "metadata": {
        "colab": {
          "base_uri": "https://localhost:8080/"
        },
        "id": "bOSEC5ZOoYjm",
        "outputId": "e297a7bc-2ebf-4ebb-9aea-f7b199a1d27a"
      },
      "execution_count": null,
      "outputs": [
        {
          "output_type": "stream",
          "name": "stdout",
          "text": [
            "Yo estudio Matemáticas\n",
            "Yo estudio Física\n",
            "Yo estudio Química\n",
            "Yo estudio Historia\n",
            "Yo estudio Lengua\n"
          ]
        }
      ]
    },
    {
      "cell_type": "code",
      "source": [
        "#Escribir un programa que almacene las asignaturas de un curso (por ejemplo Matemáticas, Física, Química, Historia y Lengua) en una lista,\n",
        "#pregunte al usuario la nota que ha sacado en cada asignatura, y después las muestre por pantalla con el mensaje En <asignatura> has sacado <nota> \n",
        "#donde <asignatura> es cada una des las asignaturas de la lista y <nota> cada una de las correspondientes notas introducidas por el usuario.\n",
        "for materia in materias:\n",
        "  notas=input(\"Dime que nota has sacado en \" + materia + \" \")\n",
        "for materia in materias:\n",
        "  for nota in notas:\n",
        "    print(\"En \" + materia + \" has sacado \" + nota)"
      ],
      "metadata": {
        "colab": {
          "base_uri": "https://localhost:8080/"
        },
        "id": "VuWA9WDDo9Uo",
        "outputId": "bad2405c-9e58-4bb1-aa05-4599b64e23b9"
      },
      "execution_count": null,
      "outputs": [
        {
          "output_type": "stream",
          "name": "stdout",
          "text": [
            "Dime que nota has sacado en Matemáticas 5.5\n",
            "Dime que nota has sacado en Física 4.5\n",
            "Dime que nota has sacado en Química 5.5\n",
            "Dime que nota has sacado en Historia 0\n",
            "Dime que nota has sacado en Lengua 0\n",
            "En Matemáticashas sacado 0\n",
            "En Físicahas sacado 0\n",
            "En Químicahas sacado 0\n",
            "En Historiahas sacado 0\n",
            "En Lenguahas sacado 0\n"
          ]
        }
      ]
    },
    {
      "cell_type": "code",
      "source": [
        "#Escribir un programa que pregunte al usuario los números ganadores de la lotería primitiva, los almacene en una lista y los muestre por pantalla ordenados de menor a mayor.\n",
        "loteria=[]\n",
        "for i in range(6):\n",
        "  loteria.append(int(input(\"Dame los números de la lotería: \")))\n",
        "loteria.sort()\n",
        "print(str(loteria))"
      ],
      "metadata": {
        "colab": {
          "base_uri": "https://localhost:8080/"
        },
        "id": "NqEDUoj_1qih",
        "outputId": "8d3c7c57-8269-4b58-feb0-1eaf132aac8a"
      },
      "execution_count": null,
      "outputs": [
        {
          "output_type": "stream",
          "name": "stdout",
          "text": [
            "Dame los números de la lotería: 56\n",
            "Dame los números de la lotería: 564\n",
            "Dame los números de la lotería: 6\n",
            "Dame los números de la lotería: 789\n",
            "Dame los números de la lotería: 213\n",
            "Dame los números de la lotería: 213\n",
            "[6, 56, 213, 213, 564, 789]\n"
          ]
        }
      ]
    },
    {
      "cell_type": "code",
      "source": [
        "#Escribir un programa que almacene en una lista los números del 1 al 10 y los muestre por pantalla en orden inverso separados por comas.\n",
        "numbers = [1, 2, 3, 4, 5, 6, 7, 8, 9, 10]\n",
        "numbers.reverse()\n",
        "for number in numbers:\n",
        "    print(number, end=\", \")\n"
      ],
      "metadata": {
        "colab": {
          "base_uri": "https://localhost:8080/"
        },
        "id": "kBcxFRLDhpgR",
        "outputId": "cf676c23-ae0d-4e79-d61f-8dafbc665d2b"
      },
      "execution_count": null,
      "outputs": [
        {
          "output_type": "stream",
          "name": "stdout",
          "text": [
            "10, 9, 8, 7, 6, 5, 4, 3, 2, 1, "
          ]
        }
      ]
    },
    {
      "cell_type": "code",
      "source": [
        "#Escribir un programa que pida al usuario una palabra y muestre por pantalla si es un palíndromo.\n",
        "palabra=str(input(\"Dime una palabra por favor: \"))\n",
        "if palabra := reversed(palabra):\n",
        "  print(\"La palabra es un palíndromo\")\n",
        "else:\n",
        "  print(\"La palabra no es un palíndromo\")"
      ],
      "metadata": {
        "colab": {
          "base_uri": "https://localhost:8080/"
        },
        "id": "xRTXJ4OS67oG",
        "outputId": "5fd4bf1d-d3f7-46fe-f8ff-19a9ea42e44d"
      },
      "execution_count": null,
      "outputs": [
        {
          "output_type": "stream",
          "name": "stdout",
          "text": [
            "Dime una palabra por favor: ala\n",
            "La palabra es un palíndromo\n"
          ]
        }
      ]
    },
    {
      "cell_type": "code",
      "source": [
        "#Escribir un programa que pida al usuario una palabra y muestre por pantalla el número de veces que contiene cada vocal.\n",
        "palabra=str(input(\"Dime una palabra: \"))\n",
        "vocales=[\"a\",\"e\",\"i\",\"o\",\"u\"]\n",
        "for vocal in vocales:\n",
        "  cuenta=0\n",
        "  for letra in palabra:\n",
        "    if vocal==letra:\n",
        "      cuenta+=1\n",
        "  print(\"La\", vocal, \"aparece\", str(cuenta)) "
      ],
      "metadata": {
        "colab": {
          "base_uri": "https://localhost:8080/"
        },
        "id": "HLIWu_vH9W_1",
        "outputId": "e774ea42-d13b-4ece-8701-78683bfbeea5"
      },
      "execution_count": null,
      "outputs": [
        {
          "output_type": "stream",
          "name": "stdout",
          "text": [
            "Dime una palabra: polo\n",
            "La a aparece 0\n",
            "La e aparece 0\n",
            "La i aparece 0\n",
            "La o aparece 2\n",
            "La u aparece 0\n"
          ]
        }
      ]
    },
    {
      "cell_type": "code",
      "source": [
        "#Escribir un programa que almacene en una lista los siguientes precios, 50, 75, 46, 22, 80, 65, 8, y muestre por pantalla el menor y el mayor de los precios.\n",
        "precios=[50, 75, 46, 22, 80, 65, 8]\n",
        "a=max(precios)\n",
        "b=min(precios)\n",
        "print(a,b)"
      ],
      "metadata": {
        "colab": {
          "base_uri": "https://localhost:8080/"
        },
        "id": "ZUjVbB5qwftg",
        "outputId": "46c6cfb2-d12d-46a0-8ca9-f8f416427aba"
      },
      "execution_count": null,
      "outputs": [
        {
          "output_type": "stream",
          "name": "stdout",
          "text": [
            "80 8\n"
          ]
        }
      ]
    },
    {
      "cell_type": "code",
      "source": [
        "#Escribir un programa que almacene los vectores (1,2,3) y (-1,0,2) en dos listas y muestre por pantalla su producto escalar.\n",
        "a = (1, 2, 3)\n",
        "b = (-1, 0, 2)\n",
        "product = 0\n",
        "for i in range(len(a)):\n",
        "    product += a[i]*b[i]\n",
        "print(\"El producto de los vectores\" + str(a) + \" y \" + str(b) + \" es \" + str(product)) \n"
      ],
      "metadata": {
        "colab": {
          "base_uri": "https://localhost:8080/"
        },
        "id": "Q0D2oHzNzRHr",
        "outputId": "5251afc7-4318-4302-ce36-97aae572fd43"
      },
      "execution_count": null,
      "outputs": [
        {
          "output_type": "stream",
          "name": "stdout",
          "text": [
            "El producto de los vectores(1, 2, 3) y (-1, 0, 2) es 5\n"
          ]
        }
      ]
    },
    {
      "cell_type": "markdown",
      "metadata": {
        "id": "GeyntjuRyS2G"
      },
      "source": [
        "## Ejercicio\n",
        "\n",
        "Escribir un programa que almacene las matrices\n",
        "\n",
        "$$\n",
        "A = \\left(\n",
        "  \\begin{array}{rrr}\n",
        "  1 & 2 & 3\\\\\n",
        "  4 & 5 & 6\n",
        "  \\end{array}\n",
        "  \\right)\n",
        "  \\quad  y\n",
        "  \\quad\n",
        "  B = \\left(\n",
        "  \\begin{array}{rr}\n",
        "  -1 & 0\\\\\n",
        "  0 & 1\\\\\n",
        "  1 & 1\n",
        "  \\end{array}\n",
        "  \\right)\n",
        "$$\n",
        "\n",
        "en una tupla y muestre por pantalla su producto.  \n",
        "Nota: Para representar matrices mediante tuplas usar tuplas anidadas, representando cada vector fila en una tupla."
      ]
    },
    {
      "cell_type": "code",
      "execution_count": null,
      "metadata": {
        "id": "DgBBysVtzNAG",
        "outputId": "4106a380-6ef1-4c84-ef23-d8105e98a365",
        "colab": {
          "base_uri": "https://localhost:8080/"
        }
      },
      "outputs": [
        {
          "output_type": "stream",
          "name": "stdout",
          "text": [
            "(2, 5)\n",
            "(2, 11)\n"
          ]
        }
      ],
      "source": [
        "a = ((1, 2, 3),\n",
        "     (4, 5, 6))\n",
        "b = ((-1, 0),\n",
        "     (0, 1),\n",
        "     (1,1))\n",
        "result = [[0,0],\n",
        "          [0,0]]\n",
        "for i in range(len(a)):\n",
        "    for j in range(len(b[0])):\n",
        "        for k in range(len(b)):\n",
        "            result[i][j] += a[i][k] * b[k][j]\n",
        "for i in range(len(result)):\n",
        "    result[i] = tuple(result[i])\n",
        "result = tuple(result)\n",
        "for i in range(len(result)):\n",
        "    print(result[i])"
      ]
    },
    {
      "cell_type": "code",
      "execution_count": null,
      "metadata": {
        "id": "gySY0-LT4XHU",
        "outputId": "9733aac9-ef14-4060-8e01-d38c2fde0906",
        "colab": {
          "base_uri": "https://localhost:8080/"
        }
      },
      "outputs": [
        {
          "output_type": "stream",
          "name": "stdout",
          "text": [
            "Introduce una muestra de números separados por comas: 5646543165418645413216546\n",
            "La media es 5.646543165418646e+24 , y la desviación típica es (4.4122550946403924+7.205759403792794e+16j)\n"
          ]
        }
      ],
      "source": [
        "sample = input(\"Introduce una muestra de números separados por comas: \")\n",
        "sample = sample.split(',')\n",
        "n = len(sample)\n",
        "for i in range(n):\n",
        "    sample[i] = int(sample[i])\n",
        "sample = tuple(sample)\n",
        "sum = 0\n",
        "sumsq = 0\n",
        "for i in sample:\n",
        "    sum += i\n",
        "    sumsq += i**2\n",
        "mean = sum/n\n",
        "stdev = (sumsq/n-mean**2)**(1/2)\n",
        "print('La media es', mean, ', y la desviación típica es', stdev)"
      ]
    }
  ]
}