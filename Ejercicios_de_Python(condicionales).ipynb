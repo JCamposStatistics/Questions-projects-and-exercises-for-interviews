{
  "nbformat": 4,
  "nbformat_minor": 0,
  "metadata": {
    "colab": {
      "provenance": []
    },
    "kernelspec": {
      "name": "python3",
      "display_name": "Python 3"
    },
    "language_info": {
      "name": "python"
    }
  },
  "cells": [
    {
      "cell_type": "code",
      "execution_count": null,
      "metadata": {
        "colab": {
          "base_uri": "https://localhost:8080/"
        },
        "id": "mG-puSB0v5UY",
        "outputId": "79935a09-7a7f-4f45-bdc3-a6fcfc2de4c0"
      },
      "outputs": [
        {
          "output_type": "stream",
          "name": "stdout",
          "text": [
            "Dime tu edad por favor: 2\n",
            "Eres menor de edad\n"
          ]
        }
      ],
      "source": [
        "#Escribir un programa que pregunte al usuario su edad y muestre por pantalla si es mayor de edad o no.\n",
        "edad=int(input(\"Dime tu edad por favor: \"))\n",
        "if(edad >= 18):\n",
        "  print(\"Eres mayor de edad\")\n",
        "else:\n",
        "  print(\"Eres menor de edad\")"
      ]
    },
    {
      "cell_type": "code",
      "source": [
        "#Escribir un programa que almacene la cadena de caracteres contraseña en una variable,\n",
        "# pregunte al usuario por la contraseña e imprima por pantalla si la contraseña introducida por el usuario coincide con la guardada en la variable sin tener en cuenta mayúsculas y minúsculas.\n",
        "contraseña_correcta=\"contraseña\"\n",
        "contraseña=input(\"Dime la contraseña: \")\n",
        "if(contraseña == contraseña_correcta):\n",
        "  print(\"Contraseña correcta\")\n",
        "else:\n",
        "  print(\"Contraseña incorrecta\")"
      ],
      "metadata": {
        "colab": {
          "base_uri": "https://localhost:8080/"
        },
        "id": "S9ojOcqqy2LE",
        "outputId": "279df744-84b6-4945-e841-82b6eca6b04d"
      },
      "execution_count": null,
      "outputs": [
        {
          "output_type": "stream",
          "name": "stdout",
          "text": [
            "Dime la contraseña: potasio\n",
            "Contraseña incorrecta\n"
          ]
        }
      ]
    },
    {
      "cell_type": "code",
      "execution_count": null,
      "metadata": {
        "colab": {
          "base_uri": "https://localhost:8080/"
        },
        "id": "hx2ik8kHC0qe",
        "outputId": "f1b413cf-fa45-444e-e5e0-5abb8fe99eb2"
      },
      "outputs": [
        {
          "output_type": "stream",
          "name": "stdout",
          "text": [
            "DAme un número: 41\n",
            "DAme un número: 0\n",
            "ERROR No se puede dividir entre cero\n"
          ]
        }
      ],
      "source": [
        "#Escribir un programa que pida al usuario dos números y muestre por pantalla su división. Si el divisor es cero el programa debe mostrar un error.\n",
        "num_1=float(input(\"DAme un número: \"))\n",
        "num_2=float(input(\"DAme un número: \"))\n",
        "if num_2 == 0:\n",
        "  print(\"ERROR No se puede dividir entre cero\")\n",
        "else:\n",
        "  print(num_1/num_2)"
      ]
    },
    {
      "cell_type": "code",
      "source": [
        "#Escribir un programa que pida al usuario un número entero y muestre por pantalla si es par o impar.\n",
        "n=int(input(\"Dame un número: \"))\n",
        "if n % 2 == 0:\n",
        "  print(\"Este número es par\")\n",
        "else:\n",
        "  print(\"Este número no es par\")"
      ],
      "metadata": {
        "colab": {
          "base_uri": "https://localhost:8080/"
        },
        "id": "_h7Xq6ZFIO_c",
        "outputId": "7cd60249-103e-4983-b846-ed292a597065"
      },
      "execution_count": null,
      "outputs": [
        {
          "output_type": "stream",
          "name": "stdout",
          "text": [
            "Dame un número: 6\n",
            "Este número es par\n"
          ]
        }
      ]
    },
    {
      "cell_type": "code",
      "source": [
        "#Para tributar un determinado impuesto se debe ser mayor de 16 años y tener unos ingresos iguales o superiores a 1000 € mensuales.\n",
        "#Escribir un programa que pregunte al usuario su edad y sus ingresos mensuales y muestre por pantalla si el usuario tiene que tributar o no.\n",
        "edad=str(input(\"Dime tu edad: \"))\n",
        "ingreso=str(input(\"Dime tus ingresos mensuales: \"))\n",
        "if (edad >= str(16) and ingreso >= str(1000)):\n",
        "  print(\"Tiene que tributar\")\n",
        "else:\n",
        "  print(\"Usted no tiene que tributar\")"
      ],
      "metadata": {
        "colab": {
          "base_uri": "https://localhost:8080/"
        },
        "id": "Bbijmmam7SyK",
        "outputId": "35bdb3a9-4dcf-4707-bc54-34344cff2e9c"
      },
      "execution_count": null,
      "outputs": [
        {
          "output_type": "stream",
          "name": "stdout",
          "text": [
            "Dime tu edad: 45\n",
            "Dime tus ingresos mensuales: 10\n",
            "Usted no tiene que tributar\n"
          ]
        }
      ]
    },
    {
      "cell_type": "code",
      "execution_count": null,
      "metadata": {
        "id": "5ABMKMzq-QaN",
        "outputId": "203c0cad-223a-4c1f-f4ed-900dd0c59640"
      },
      "outputs": [
        {
          "name": "stdin",
          "output_type": "stream",
          "text": [
            "¿Cómo te llamas?  Carmen\n",
            "¿Cuál es tu sexo (M o H)?  M\n"
          ]
        },
        {
          "name": "stdout",
          "output_type": "stream",
          "text": [
            "Tu grupo es A\n"
          ]
        }
      ],
      "source": [
        "name = input(\"¿Cómo te llamas? \")\n",
        "gender = input(\"¿Cuál es tu sexo (M o H)? \")\n",
        "if (gender == \"M\" and name.lower() < 'm') or (gender == \"H\" and name.lower() > 'n'):\n",
        "    group = \"A\"\n",
        "else:\n",
        "    group = \"B\"\n",
        "print(\"Tu grupo es \" + group)"
      ]
    },
    {
      "cell_type": "code",
      "source": [
        "renta_anual=float(input(\"¿Cuál es tu renta anual?\"))\n",
        "desc_5=renta_anual*0.5\n",
        "desc_15=renta_anual*0.15\n",
        "desc_20=renta_anual*0.20\n",
        "desc_30=renta_anual*0.30\n",
        "desc_45=renta_anual*0.45\n",
        "if renta_anual <= 10000:\n",
        "  print(\"Tu tramo impositivo es\", str(desc_5))\n",
        "elif 10000 <= renta_anual <= 20000:\n",
        "  print(\"Tu tramo impostivo es\", str(desc_15)) \n",
        "elif 20000 <= renta_anual <= 35000:\n",
        "  print(\"Tu tramo impostivo es\", str(desc_20))\n",
        "elif 35000 <= renta_anual <= 60000:\n",
        "  print(\"Tu tramo impostivo es\", str(desc_30))\n",
        "elif 60000 <= renta_anual:\n",
        "  print(\"Tu tramo impostivo es\", str(desc_45))\n",
        "  "
      ],
      "metadata": {
        "colab": {
          "base_uri": "https://localhost:8080/"
        },
        "id": "HBWcRF1e9Ss0",
        "outputId": "3cb4a7e5-0f72-4278-ac4f-ce449810a258"
      },
      "execution_count": null,
      "outputs": [
        {
          "output_type": "stream",
          "name": "stdout",
          "text": [
            "¿Cuál es tu renta anual?465465\n",
            "Tu tramo impostivo es 209459.25\n"
          ]
        }
      ]
    },
    {
      "cell_type": "code",
      "source": [
        "bonificacion = 2400\n",
        "inaceptable = 0\n",
        "aceptable = 0.4\n",
        "meritorio = 0.6\n",
        "puntos = float(input(\"Introduce tu puntuación: \"))\n",
        "# Clasifiación por niveles de rendimiento\n",
        "if puntos == inaceptable:\n",
        "    nivel = \"Inaceptable\"\n",
        "elif puntos == aceptable:\n",
        "    nivel = \"Aceptable\"\n",
        "elif puntos >= 0.6:\n",
        "    nivel = \"Meritorio\"\n",
        "else:\n",
        "    nivel = \"\"\n",
        "# Mostrar nivel de rendimiento\n",
        "if nivel == \"\":\n",
        "    print(\"Esta puntuación no es válida\")\n",
        "else:\n",
        "    print(\"Tu nivel de rendimiento es %s\" % nivel)\n",
        "    print(\"Te corresponde cobrar %.2f€\" % (puntos * bonificacion))"
      ],
      "metadata": {
        "id": "FnAcTWIxHXZw"
      },
      "execution_count": null,
      "outputs": []
    },
    {
      "cell_type": "code",
      "source": [
        "#Escribir un programa para una empresa que tiene salas de juegos para todas las edades y quiere calcular de forma automática el precio que debe cobrar a sus clientes por entrar. \n",
        "#El programa debe preguntar al usuario la edad del cliente y mostrar el precio de la entrada.\n",
        "#Si el cliente es menor de 4 años puede entrar gratis, si tiene entre 4 y 18 años debe pagar 5€ y si es mayor de 18 años, 10€.\n",
        "edad=int(input(\"Dime tu edad: \"))\n",
        "if edad < 4:\n",
        "  print(\"Tu entrada es gratis\")\n",
        "elif 18 >= edad > 4:\n",
        "  print(\"Debe pagar\", str(5), \"euros\")\n",
        "else:\n",
        "  print(\"Debe pagar\", str(10), \"euros\")"
      ],
      "metadata": {
        "colab": {
          "base_uri": "https://localhost:8080/"
        },
        "id": "SGG_GYMC9BhU",
        "outputId": "35115a99-b021-47d4-a3c8-ffc905274a96"
      },
      "execution_count": 2,
      "outputs": [
        {
          "output_type": "stream",
          "name": "stdout",
          "text": [
            "Dime tu edad: 25\n",
            "Debe pagar 10 euros\n"
          ]
        }
      ]
    },
    {
      "cell_type": "code",
      "source": [
        "món"
      ],
      "metadata": {
        "id": "fyLefQoOC9dz"
      },
      "execution_count": null,
      "outputs": []
    },
    {
      "cell_type": "code",
      "source": [
        "#La pizzería Bella Napoli ofrece pizzas vegetarianas y no vegetarianas a sus clientes. Los ingredientes para cada tipo de pizza aparecen a continuación.\n",
        "\n",
        "#Ingredientes vegetarianos: Pimiento y tofu.\n",
        "#Ingredientes no vegetarianos: Peperoni, Jamón y Salmón.\n",
        "#Escribir un programa que pregunte al usuario si quiere una pizza vegetariana o no, y en función de su respuesta le muestre un menú con los ingredientes disponibles para que elija. \n",
        "#Solo se puede eligir un ingrediente además de la mozzarella y el tomate que están en todas la pizzas. Al final se debe mostrar por pantalla si la pizza elegida es vegetariana o no y todos los ingredientes que lleva.\n",
        "\n",
        "opción=input(\"¿Que pizza quiere? Vegetariana o No vegetariana? y en base a esto escoja solo un ingrediente \")\n",
        "if opción == \"Vegetariana\":\n",
        "  print(\"Los ingredientes posibles son Pimiento y Tofú\")\n",
        "elif opción == \"No vegetariana\":\n",
        "  print(\"Los ingredientes posibles son Peperoni, Jamón y Salmón\")\n",
        "else:\n",
        "  print(\"Esa opción no existe\")\n",
        "ingrediente=input(\"¿Qué ingrediente quiere?\")\n",
        "if ingrediente == \"Pimiento\":\n",
        "  print(\"Su pizza es vegatariana y lleva Mozarella, tomate y pimiento\")\n",
        "elif ingrediente == \"Tofú\":\n",
        "  print(\"Su pizza es vegetariana y lleva Mozarella, tomate y Tofú\")\n",
        "elif ingrediente == \"Peperoni\":\n",
        "  print(\"Su pizza es No vegetariana y lleva Mozarella, tomate y Peperoni\")\n",
        "elif ingrediente == \"Jamón\":\n",
        "  print(\"Su pizza es No vegetariana y lleva Mozarella, tomate y Jamón\")\n",
        "elif ingrediente == \"Salmón\":\n",
        "  print(\"Su pizza es No vegetariana y lleva Mozarella, tomate y Salmón\")\n",
        "else:\n",
        "  print(\"Esa opción no existe\")"
      ],
      "metadata": {
        "colab": {
          "base_uri": "https://localhost:8080/"
        },
        "id": "48TYOIIC_Rx0",
        "outputId": "68dcb90c-2347-4ad5-f877-0f78f67df1cc"
      },
      "execution_count": 4,
      "outputs": [
        {
          "output_type": "stream",
          "name": "stdout",
          "text": [
            "¿Que pizza quiere? Vegetariana o No vegetariana? y en base a esto escoja solo un ingredientedf\n",
            "Esa opción no existe\n",
            "¿Qué ingrediente quiere?Peperoni\n",
            "Su pizza es No vegetariana y lleva Mozarella, tomate y Peperoni\n"
          ]
        }
      ]
    }
  ]
}